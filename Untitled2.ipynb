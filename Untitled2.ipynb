{
 "cells": [
  {
   "cell_type": "markdown",
   "metadata": {},
   "source": [
    "# SCRAPE DATA FROM FACEBOOK EVEN AFTER THE BUG IN GRAPH API"
   ]
  },
  {
   "cell_type": "code",
   "execution_count": 1,
   "metadata": {
    "collapsed": true
   },
   "outputs": [],
   "source": [
    "#this scrape will scrape post TEXT and reactions for upto 24 posts in a day\n",
    "#for more info on how to use this scraper, watch this short video.\n",
    "#hope it helps\n",
    "\n",
    "#import dependencies\n",
    "import json\n",
    "import requests\n",
    "import pandas as pd"
   ]
  },
  {
   "cell_type": "code",
   "execution_count": 2,
   "metadata": {
    "collapsed": true
   },
   "outputs": [],
   "source": [
    "#please continously update this  from facebook graph api ..\n",
    "access_new = 'EAACEdEose0cBAC6yxY0w6A8lnQXZAuwa9BgKprtB3mVkFVZA7NGfAS7ZBKPIZAY1hQPGycsRhZBOUyzFnt4QtC2LfjuMQ6WgDdrY437FE11A8DykO4bgtMSEgVrfcouQZBgU5j01GONXOu82IZCByGyRUn73zKPvDrhbzWKT7xAOy0NZC5HiKbyrK9fWgKhZATMEZD'\n",
    "\n",
    "#this is the list of days for which you want to scrape\n",
    "#the days are not in dd/mm/yy format but in unixtimestamp format\n",
    "#because facebook will let you scrape just 24 post for each day , thanks to it's bug\n",
    "#each number in array below is unixtimestamps value from date 08/12/2017 to 12/12/2017 (dd/mm/yy)\n",
    "unixtimeStamps = [1512677592,1512763992,1512850392,1512936792,1513023192,1513109592]\n",
    "\n",
    "\n",
    "#enter page name you want to scrape and a new-unexpired access token\n",
    "\n",
    "#this function scrapes reactions from a post of a page..\n",
    "def makeReactionsTableFromPost(pagename,access_token = access_new):\n",
    "    reactionFrames = []\n",
    "    reactionString = '{reactions.type(LIKE).summary(total_count).limit(0).as(like),reactions.type(LOVE).summary(total_count).limit(0).as(love),reactions.type(WOW).summary(total_count).limit(0).as(wow),reactions.type(HAHA).summary(total_count).limit(0).as(haha),reactions.type(SAD).summary(total_count).limit(0).as(sad),reactions.type(ANGRY).summary(total_count).limit(0).as(angry)}'\n",
    "    for i in unixtimeStamps:\n",
    "        stringUrl = 'https://graph.facebook.com/v2.11/{}?fields=feed.until({}){}&access_token={}'.format(pagename,i,reactionString,access_token)\n",
    "        r = requests.get(url = stringUrl)\n",
    "        data = r.json()\n",
    "        rawFrame = pd.DataFrame.from_dict(data['feed']['data'])\n",
    "        \n",
    "        for word in words:\n",
    "            for i in range(len(rawFrame)):\n",
    "                rawFrame[word][i] = rawFrame[word][i]['summary']['total_count']\n",
    "        \n",
    "        reactionFrames.append(rawFrame)\n",
    "    return pd.concat(reactionFrames)\n",
    "\n",
    "#gives back the pandas dataframe for list of post messages(TEXT's)\n",
    "\n",
    "def createPostTextfromURL(pagename,access_token=access_new):\n",
    "    \n",
    "    #stores post Text\n",
    "    dataframes = []\n",
    "    for i in unixtimeStamps:\n",
    "        #exra\n",
    "        stringUrl = 'https://graph.facebook.com/v2.11/{}?fields=feed.until({})&access_token={}'.format(pagename,i,access_token)   \n",
    "        r = requests.get(url = stringUrl)\n",
    "        data = r.json()\n",
    "        #don't supply data dirictly into code below. supply data['data]['message]\n",
    "        dataframes.append(pd.DataFrame.from_dict(data['feed']['data'])['message'])\n",
    "    final = pd.concat(dataframes)\n",
    "    return final"
   ]
  },
  {
   "cell_type": "code",
   "execution_count": 4,
   "metadata": {
    "collapsed": true
   },
   "outputs": [],
   "source": [
    "#returns pandas dataframe containing reactions and post Text\n",
    "\n",
    "def getPostTextandReactions(pagename):\n",
    "    pd1 = createPostTextfromURL(pagename)\n",
    "    pd2 = makeReactionsTableFromPost(pagename)\n",
    "    cols_to_elect = ['like','love','sad','haha','wow','angry','message']\n",
    "    return pd.concat([pd1,pd2],axis=1)[cols_to_elect]\n",
    "\n",
    "           \n"
   ]
  },
  {
   "cell_type": "markdown",
   "metadata": {},
   "source": [
    "# lets scrape some reactions from CNN page from  dates 2017/8/12 to 2017/12/12  (YY/DD/MM)"
   ]
  },
  {
   "cell_type": "code",
   "execution_count": null,
   "metadata": {
    "collapsed": true
   },
   "outputs": [],
   "source": [
    "dataCNN = getPostTextandReactions(pagename=CNN)\n"
   ]
  }
 ],
 "metadata": {
  "kernelspec": {
   "display_name": "Python 3",
   "language": "python",
   "name": "python3"
  },
  "language_info": {
   "codemirror_mode": {
    "name": "ipython",
    "version": 3
   },
   "file_extension": ".py",
   "mimetype": "text/x-python",
   "name": "python",
   "nbconvert_exporter": "python",
   "pygments_lexer": "ipython3",
   "version": "3.6.3"
  }
 },
 "nbformat": 4,
 "nbformat_minor": 2
}
